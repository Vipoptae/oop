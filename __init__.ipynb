{
 "cells": [
  {
   "cell_type": "code",
   "execution_count": 77,
   "metadata": {},
   "outputs": [],
   "source": [
    "class Playerdemo:\n",
    "    def __init__(self, fname, lname, number):\n",
    "        self.fname = fname\n",
    "        self.lname = lname\n",
    "        self.number = number\n",
    "    def fullname(self):\n",
    "        return self.fname+' '+self.lname"
   ]
  },
  {
   "cell_type": "code",
   "execution_count": 91,
   "metadata": {},
   "outputs": [
    {
     "data": {
      "text/plain": [
       "'vipop tae'"
      ]
     },
     "execution_count": 91,
     "metadata": {},
     "output_type": "execute_result"
    }
   ],
   "source": [
    "b=Playerdemo('vipop','tae',3)\n",
    "b.fullname()\n"
   ]
  },
  {
   "cell_type": "code",
   "execution_count": 78,
   "metadata": {},
   "outputs": [],
   "source": [
    "### this line will be error\n",
    "# b=Playerdemo(lname='qwe')\n",
    "# print(b.lname)"
   ]
  },
  {
   "cell_type": "markdown",
   "metadata": {},
   "source": [
    "# Try to add =None"
   ]
  },
  {
   "cell_type": "code",
   "execution_count": 139,
   "metadata": {},
   "outputs": [],
   "source": [
    "class Playerdemo2:\n",
    "    def __init__(self, gold=None, silver=None, country=None):\n",
    "        self.gold = gold\n",
    "        self.silver = silver\n",
    "        self.country = country\n",
    "    def total(self):\n",
    "        return self.gold + self.silver\n",
    "    def descript(self):\n",
    "        return self.country\n",
    "    \n"
   ]
  },
  {
   "cell_type": "code",
   "execution_count": 140,
   "metadata": {},
   "outputs": [
    {
     "name": "stdout",
     "output_type": "stream",
     "text": [
      "Thailand gain 5 medals with gold : 3 silver : 2\n"
     ]
    }
   ],
   "source": [
    "s=Playerdemo2(3,2,'Thailand')\n",
    "print(s.descript(),'gain',s.total(),'medals with','gold :',s.gold,'silver :',s.silver)"
   ]
  },
  {
   "cell_type": "code",
   "execution_count": 127,
   "metadata": {},
   "outputs": [
    {
     "name": "stdout",
     "output_type": "stream",
     "text": [
      "0 0\n",
      "0 1\n",
      "0 2\n",
      "1 0\n",
      "1 1\n",
      "1 2\n"
     ]
    }
   ],
   "source": [
    "for i in range(2):\n",
    "    for j in range(3):\n",
    "        print (i,j)"
   ]
  },
  {
   "cell_type": "code",
   "execution_count": 153,
   "metadata": {},
   "outputs": [],
   "source": [
    "from random import randrange"
   ]
  },
  {
   "cell_type": "code",
   "execution_count": 231,
   "metadata": {},
   "outputs": [
    {
     "name": "stdout",
     "output_type": "stream",
     "text": [
      "Thailand gain 0 medals with gold : 0 silver : 0\n",
      "China gain 0 medals with gold : 0 silver : 0\n",
      "USA gain 0 medals with gold : 0 silver : 0\n",
      "US gain 0 medals with gold : 0 silver : 0\n"
     ]
    }
   ],
   "source": [
    "country = [\"Thailand\", \"China\", \"USA\", \"US\"]\n",
    "for i in range(randrange(3)):\n",
    "    for j in range(1):\n",
    "        for h in country:\n",
    "            s=Playerdemo2(i,j,h)\n",
    "            print(s.descript(),'gain',s.total(),'medals with','gold :',s.gold,'silver :',s.silver)"
   ]
  },
  {
   "cell_type": "code",
   "execution_count": 234,
   "metadata": {},
   "outputs": [
    {
     "name": "stdout",
     "output_type": "stream",
     "text": [
      "qwe\n"
     ]
    }
   ],
   "source": [
    "## Code can run \n",
    "b=Playerdemo2(gold='qwe')\n",
    "print(b.gold)"
   ]
  },
  {
   "cell_type": "code",
   "execution_count": 238,
   "metadata": {},
   "outputs": [],
   "source": [
    "class Playerdemo2:\n",
    "    def __init__(self, fname=None, lname=None, country='Th'):\n",
    "        self.fname = fname\n",
    "        self.lname = lname\n",
    "        self.country = country\n",
    "    def __str__(self):\n",
    "        return 'fname : {} lname : {} country : {}'.format(self.fname, self.lname, self.country)"
   ]
  },
  {
   "cell_type": "code",
   "execution_count": 241,
   "metadata": {},
   "outputs": [
    {
     "data": {
      "text/plain": [
       "3"
      ]
     },
     "execution_count": 241,
     "metadata": {},
     "output_type": "execute_result"
    }
   ],
   "source": [
    "s=Playerdemo2(3,2,'Thailand')\n",
    "s.fname"
   ]
  },
  {
   "cell_type": "code",
   "execution_count": null,
   "metadata": {},
   "outputs": [],
   "source": []
  }
 ],
 "metadata": {
  "kernelspec": {
   "display_name": "Python 3",
   "language": "python",
   "name": "python3"
  },
  "language_info": {
   "codemirror_mode": {
    "name": "ipython",
    "version": 3
   },
   "file_extension": ".py",
   "mimetype": "text/x-python",
   "name": "python",
   "nbconvert_exporter": "python",
   "pygments_lexer": "ipython3",
   "version": "3.8.3"
  }
 },
 "nbformat": 4,
 "nbformat_minor": 4
}
